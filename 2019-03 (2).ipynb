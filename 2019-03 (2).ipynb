{
 "cells": [
  {
   "cell_type": "markdown",
   "metadata": {},
   "source": [
    "# Implementando um classificador baseado em distância com um circuito de interferência quântica\n",
    "##### [Maria Schuld, Mark Fingerhuth, Francesco Petruccione](https://arxiv.org/abs/1703.10793)"
   ]
  },
  {
   "cell_type": "markdown",
   "metadata": {},
   "source": [
    "O classificador quântico aqui disposto utiliza a interferência quântica para medir a distância de um vetor de entrada para cada\n",
    "um dos vetores de treinamento e assim classificá-lo. Como prova de conceito, é montado um circuito quântico para classificar \n",
    "instâncias do conjuto de dados [Iris](http://archive.ics.uci.edu/ml/datasets/Iris).\n",
    "\n",
    "A ideia principal é utilizar a interferência quântica para medir a distância de um novo vetor de entrada para cada um dos \n",
    "vetores de treinamento disponíveis e os classificar, como prova de conceito, é montado um circuito quântico para classificar \n",
    "instâncias do dataset Iris. São expostos resultados preditos, simulados e a partir de execuções reais em computadores quânticos \n",
    "da IBM, que só permitem a implementação de 80 portas quânticas, mas simulações numéricas mostram que o classificador funciona \n",
    "bem o suficiente com as tarefas de referência."
   ]
  },
  {
   "cell_type": "markdown",
   "metadata": {},
   "source": [
    "## Circuito"
   ]
  },
  {
   "cell_type": "markdown",
   "metadata": {},
   "source": [
    "![title](circuit.jpg)"
   ]
  },
  {
   "cell_type": "markdown",
   "metadata": {},
   "source": [
    "$\\newcommand{\\ket}[1]{\\left\\vert #1 \\right\\rangle}$\n",
    "$\\psi_A = \\dfrac{1}{2} \\left( \\ket{0000} + \\ket{0100} + \\ket{1000} + \\ket{1100} \\right)$"
   ]
  },
  {
   "cell_type": "code",
   "execution_count": null,
   "metadata": {},
   "outputs": [],
   "source": [
    "$\\psi_B = \\dfrac{1}{2} \\left( \\ket{1000} + \\ket{1100} + \\cos{\\dfrac{\\theta}{2}}\\ket{0000} + \\sin{\\dfrac{\\theta}{2}}\\ket{0010} + \n",
    "\\cos{\\dfrac{\\theta}{2}}\\ket{0100} + \\sin{\\dfrac{\\theta}{2}}\\ket{0110} \\right)$"
   ]
  },
  {
   "cell_type": "markdown",
   "metadata": {},
   "source": [
    "$\\psi_C = \\dfrac{1}{2} \\left( \\ket{1100} + \\cos{\\dfrac{\\phi_0}{2}}\\ket{1000} + \\sin{\\dfrac{\\phi_0}{2}}\\ket{1010} + \\cos{\\dfrac{\\theta}{2}}\\ket{0100} + \\sin{\\dfrac{\\theta}{2}}\\ket{0110} + \\cos{\\dfrac{\\theta}{2}}\\ket{0000} + \\sin{\\dfrac{\\theta}{2}}\\ket{0010} \\right)$"
   ]
  },
  {
   "cell_type": "markdown",
   "metadata": {},
   "source": [
    "$\\psi_D = \\dfrac{1}{2} \\left( \\cos{\\dfrac{\\phi_1}{2}}\\ket{1100} + \\sin{\\dfrac{\\phi_1}{2}}\\ket{1110} + \\cos{\\dfrac{\\phi_0}{2}}\\ket{1000} + \\sin{\\dfrac{\\phi_0}{2}}\\ket{1010} + \\cos{\\dfrac{\\theta}{2}}\\ket{0100} + \\sin{\\dfrac{\\theta}{2}}\\ket{0110} + \\cos{\\dfrac{\\theta}{2}}\\ket{0000} + \\sin{\\dfrac{\\theta}{2}}\\ket{0010} \\right)$"
   ]
  },
  {
   "cell_type": "markdown",
   "metadata": {},
   "source": [
    "$\\psi_E = \\dfrac{1}{2} \\left( \\cos{\\dfrac{\\phi_1}{2}}\\ket{1101} + \\sin{\\dfrac{\\phi_1}{2}}\\ket{1111} + \n",
    "\\cos{\\dfrac{\\phi_0}{2}}\\ket{1000} + \\sin{\\dfrac{\\phi_0}{2}}\\ket{1010} + \\cos{\\dfrac{\\theta}{2}}\\ket{0101} + \n",
    "\\sin{\\dfrac{\\theta}{2}}\\ket{0111} + \\cos{\\dfrac{\\theta}{2}}\\ket{0000} + \\sin{\\dfrac{\\theta}{2}}\\ket{0010} \\right)$"
   ]
  },
  {
   "cell_type": "markdown",
   "metadata": {},
   "source": [
    "$\\psi_F = \\dfrac{1}{2} \\left( \\left( \\dfrac{\\ket{0} - \\ket{1}}{\\sqrt{2}} \\right) \\left( \\cos{\\dfrac{\\phi_1}{2}}\\ket{101} + \\sin{\\dfrac{\\phi_1}{2}}\\ket{111} + \\cos{\\dfrac{\\phi_0}{2}}\\ket{000} + \\sin{\\dfrac{\\phi_0}{2}}\\ket{010} \\right) + \\left( \\dfrac{\\ket{0} + \\ket{1}}{\\sqrt{2}} \\right) \\left( \\cos{\\dfrac{\\theta}{2}}\\ket{101} + \\sin{\\dfrac{\\theta}{2}}\\ket{111} + \\cos{\\dfrac{\\theta}{2}}\\ket{000} + \\sin{\\dfrac{\\theta}{2}}\\ket{010} \\right) \\right)$"
   ]
  },
  {
   "cell_type": "markdown",
   "metadata": {},
   "source": [
    "## Implementação"
   ]
  },
  {
   "cell_type": "code",
   "execution_count": null,
   "metadata": {},
   "outputs": [],
   "source": [
    "# Install Libs\n",
    "import sys\n",
    "!{sys.executable} -m pip install --user numpy\n",
    "!{sys.executable} -m pip install --user matplotlib\n",
    "!{sys.executable} -m pip install --user qiskit\n",
    "!{sys.executable} -m pip install --user scikit-learn"
   ]
  },
  {
   "cell_type": "code",
   "execution_count": null,
   "metadata": {},
   "outputs": [],
   "source": [
    "# Import Libs\n",
    "import matplotlib.pyplot as plt\n",
    "%matplotlib inline\n",
    "import numpy as np\n",
    "from qiskit import *\n",
    "import qutils\n",
    "import iris\n",
    "import math"
   ]
  },
  {
   "cell_type": "code",
   "execution_count": null,
   "metadata": {},
   "outputs": [],
   "source": [
    "# Auxiliary function definitions\n",
    "def calculate_theta(sample):        \n",
    "    if sample[0] < 0 and sample[1] < 0:\n",
    "        value = sample[1]\n",
    "        theta = math.acos(value)*2+math.pi\n",
    "    elif sample[1] < 0:\n",
    "        value = sample[1]\n",
    "        theta = math.asin(value)*2\n",
    "    else:\n",
    "        value = sample[0]\n",
    "        theta = math.acos(value)*2\n",
    "    \n",
    "    return theta"
   ]
  },
  {
   "cell_type": "markdown",
   "metadata": {},
   "source": [
    "Carregar os dados do dataset Iris e indexar o vetor da  entrada\n"
   ]
  },
  {
   "cell_type": "code",
   "execution_count": null,
   "metadata": {},
   "outputs": [],
   "source": [
    "# Preprocessing\n",
    "classes = [0,1]\n",
    "features = [0,1]\n",
    "input_vector_index = 28\n",
    "training_vector_indexes = [33, 85]\n",
    "\n",
    "X, y = iris.load_dataset(classes=classes, features=features)\n",
    "X = iris.preprocess(X)\n",
    "\n",
    "input_vector_theta = calculate_theta(X[input_vector_index])\n",
    "training_vector_thetas = [\n",
    "    calculate_theta(X[training_vector_indexes[0]]),\n",
    "    calculate_theta(X[training_vector_indexes[1]])\n",
    "]"
   ]
  },
  {
   "cell_type": "markdown",
   "metadata": {},
   "source": [
    "Inicializando os 4 qubits necessários no circuito, que armazenam, a ancilla, o index, o vetor do dataset e a classe"
   ]
  },
  {
   "cell_type": "code",
   "execution_count": null,
   "metadata": {},
   "outputs": [],
   "source": [
    "# Create Circuit\n",
    "q = QuantumRegister(4, 'q')\n",
    "c = ClassicalRegister(2, 'c')\n",
    "qc = QuantumCircuit(q, c)"
   ]
  },
  {
   "cell_type": "markdown",
   "metadata": {},
   "source": [
    "A qubit da ancilla e o index são colocados em superposição com a aplicação do hadamard, onde o qbit da ancilla interfere \n",
    "nas cópias das novas entradas e das novas entradas de treinamento"
   ]
  },
  {
   "cell_type": "code",
   "execution_count": null,
   "metadata": {},
   "outputs": [],
   "source": [
    "# Subcircuit A\n",
    "qc.h(q[[0,1]])\n",
    "\n",
    "qc.barrier()\n",
    "qutils.wavefunction(qc)"
   ]
  },
  {
   "cell_type": "markdown",
   "metadata": {},
   "source": [
    "É feita uma aplicação condicional do Ry (cnot) e em seguida é aplicado X no qbit da ancilla onde ele é emaranhado com o vetor\n",
    "dos dados de entrada e assim o conteúdo desse vetor é codificado no qbit da ancilla "
   ]
  },
  {
   "cell_type": "code",
   "execution_count": null,
   "metadata": {},
   "outputs": [],
   "source": [
    "# Subcircuit B\n",
    "ry_input = input_vector_theta / 2.0\n",
    "qc.cx(q[0], q[2])\n",
    "qc.ry((-1 * ry_input), q[2])\n",
    "qc.cx(q[0], q[2])\n",
    "qc.x(q[0])\n",
    "qc.ry(ry_input, q[2])\n",
    "\n",
    "qc.barrier()\n",
    "qutils.wavefunction(qc)"
   ]
  },
  {
   "cell_type": "markdown",
   "metadata": {},
   "source": [
    "Uma porta Toffoli e em seguida um X é aplicada e o vetor de treinamendo $ x^0 $ é emaranhado com o estado inicial do qbit do \n",
    "index e o estado excitado do qbit da ancilla e então o conteúdo do vetor $ x^0 $ é codificado \n"
   ]
  },
  {
   "cell_type": "code",
   "execution_count": null,
   "metadata": {},
   "outputs": [],
   "source": [
    "# Subcircuit C\n",
    "ry_input = training_vector_thetas[0] / 4.0\n",
    "qc.ccx(q[0], q[1], q[2])\n",
    "qc.cx(q[1], q[2])\n",
    "qc.ry(ry_input, q[2])\n",
    "qc.cx(q[1], q[2])\n",
    "qc.ry((-1 * ry_input), q[2])\n",
    "qc.ccx(q[0], q[1], q[2])\n",
    "qc.cx(q[1], q[2])\n",
    "qc.ry((-1 * ry_input), q[2])\n",
    "qc.cx(q[1], q[2])\n",
    "qc.ry(ry_input, q[2])\n",
    "\n",
    "qc.x(q[1])\n",
    "\n",
    "qc.barrier()\n",
    "qutils.wavefunction(qc)"
   ]
  },
  {
   "cell_type": "markdown",
   "metadata": {},
   "source": [
    "O vetor de treinamento $ x^1 $ é emaranhado como estado excitado da ancilla e o qbit do index aplicando o Ry condicionalmente\n",
    "no index qbit usando como parâmetro a entrada de treinamento $ x^1 $"
   ]
  },
  {
   "cell_type": "code",
   "execution_count": null,
   "metadata": {},
   "outputs": [],
   "source": [
    "# Subcircuit D\n",
    "ry_input = training_vector_thetas[1] / 4.0\n",
    "qc.ccx(q[0], q[1], q[2])\n",
    "qc.cx(q[1], q[2])\n",
    "qc.ry(ry_input, q[2])\n",
    "qc.cx(q[1], q[2])\n",
    "qc.ry((-1 * ry_input), q[2])\n",
    "qc.ccx(q[0], q[1], q[2])\n",
    "qc.cx(q[1], q[2])\n",
    "qc.ry((-1 * ry_input), q[2])\n",
    "qc.cx(q[1], q[2])\n",
    "qc.ry(ry_input, q[2])\n",
    "\n",
    "qc.barrier()\n",
    "qutils.wavefunction(qc)"
   ]
  },
  {
   "cell_type": "code",
   "execution_count": null,
   "metadata": {},
   "outputs": [],
   "source": [
    "# Subcircuit E\n",
    "qc.cx(q[1], q[3])\n",
    "\n",
    "qc.barrier()\n",
    "qutils.wavefunction(qc)"
   ]
  },
  {
   "cell_type": "code",
   "execution_count": null,
   "metadata": {},
   "outputs": [],
   "source": [
    "Um hadamard é aplicado para que a possibilidade da medição (que será feita no próximo passo) seja 0 aumente "
   ]
  },
  {
   "cell_type": "code",
   "execution_count": null,
   "metadata": {},
   "outputs": [],
   "source": [
    "# Subcircuit F\n",
    "qc.h(q[0])\n",
    "\n",
    "qutils.wavefunction(qc)"
   ]
  },
  {
   "cell_type": "markdown",
   "metadata": {},
   "source": [
    "São feitas duas medições, uma no qbit da ancilla e outra que é condicional, caso o resultado da medição do qbit da ancilla seja\n",
    "0 o qbit do index é medido e então a classe será obtida"
   ]
  },
  {
   "cell_type": "code",
   "execution_count": null,
   "metadata": {},
   "outputs": [],
   "source": [
    "# Measure\n",
    "qc.measure(q[0],c[0])\n",
    "qc.barrier()\n",
    "qc.measure(q[3],c[1])\n",
    "\n",
    "qutils.wavefunction(qc)"
   ]
  },
  {
   "cell_type": "code",
   "execution_count": null,
   "metadata": {},
   "outputs": [],
   "source": [
    "# Print circuit\n",
    "qc.draw(output = 'mpl')"
   ]
  },
  {
   "cell_type": "code",
   "execution_count": null,
   "metadata": {},
   "outputs": [],
   "source": [
    "qutils.measurement(qc, shots = 1024)"
   ]
  },
  {
   "cell_type": "code",
   "execution_count": null,
   "metadata": {},
   "outputs": [],
   "source": [
    "# Simulate\n",
    "backend = BasicAer.get_backend('qasm_simulator')\n",
    "counts = execute(qc, backend, shots=1024).result().get_counts(qc)"
   ]
  },
  {
   "cell_type": "code",
   "execution_count": null,
   "metadata": {},
   "outputs": [],
   "source": [
    "# Postselection probability\n",
    "pacc = (counts['00'] + counts['10']) / sum(counts.values())\n",
    "visualization.plot_histogram({ 'P': pacc, '1 - P': (1 - pacc) })"
   ]
  },
  {
   "cell_type": "code",
   "execution_count": null,
   "metadata": {},
   "outputs": [],
   "source": []
  }
 ],
 "metadata": {
  "kernelspec": {
   "display_name": "Python 3",
   "language": "python",
   "name": "python3"
  },
  "language_info": {
   "codemirror_mode": {
    "name": "ipython",
    "version": 3
   },
   "file_extension": ".py",
   "mimetype": "text/x-python",
   "name": "python",
   "nbconvert_exporter": "python",
   "pygments_lexer": "ipython3",
   "version": "3.6.7"
  }
 },
 "nbformat": 4,
 "nbformat_minor": 2
}
